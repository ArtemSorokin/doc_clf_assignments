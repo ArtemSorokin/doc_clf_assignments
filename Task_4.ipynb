{
 "cells": [
  {
   "cell_type": "markdown",
   "metadata": {},
   "source": [
    "# Линейная регрессия"
   ]
  },
  {
   "cell_type": "code",
   "execution_count": 1,
   "metadata": {},
   "outputs": [],
   "source": [
    "from collections import defaultdict\n",
    "\n",
    "import numpy as np\n",
    "from matplotlib import pyplot as plt\n",
    "\n",
    "import torch\n",
    "from torch import nn\n",
    "from torch.autograd import Variable"
   ]
  },
  {
   "cell_type": "markdown",
   "metadata": {},
   "source": [
    "Данные содержатся в файле `data/lin_reg.txt`. Прочитать их можно следующим так:"
   ]
  },
  {
   "cell_type": "code",
   "execution_count": 2,
   "metadata": {},
   "outputs": [],
   "source": [
    "D = np.loadtxt('../data/lin_reg.txt', delimiter=',')"
   ]
  },
  {
   "cell_type": "markdown",
   "metadata": {},
   "source": [
    "При выполнении заданий **нельзя** пользоваться `scikit-learn` и т.п., только `NumPy`/`JAX`/`TF`/`PyTorch` и `matplotlib`/`seaborn`/`plotly`/etc.\n",
    "\n",
    "1. Нарисуйте график среднеквадратичной ошибки в зависимости от параметра регуляризации $\\alpha$, используя полные данные для обучения и для тестирования. \n",
    "2. Подготовьте исходные данные для 5 fold CV.\n",
    "3. С помощью CV найдите оптимальное значение $\\alpha$ на какой-нибудь сетке значений.\n",
    "4. Постройте валидационную кривую. \n",
    "5. Постройте кривую обучения."
   ]
  },
  {
   "cell_type": "code",
   "execution_count": 3,
   "metadata": {},
   "outputs": [],
   "source": [
    "def get_cv_folds(X, cv):\n",
    "    indices = np.random.permutation(X.shape[0])\n",
    "    fold_length = X.shape[0] // cv\n",
    "\n",
    "    folds = []\n",
    "    for fold_n in range(cv):\n",
    "        fold_idx = indices[fold_n * fold_length: (fold_n + 1) * fold_length]\n",
    "        fold = X[fold_idx, :]\n",
    "        folds.append(fold)\n",
    "\n",
    "    return np.array(folds)\n",
    "\n",
    "\n",
    "def prepare(data):\n",
    "    X, y = data[:, :-1], data[:, -1]\n",
    "\n",
    "    # add intercept column\n",
    "    X = np.append(X, np.array([[1] * X.shape[0]]).T, axis=1)\n",
    "\n",
    "    X = X.astype(np.float32)\n",
    "    y = y.astype(np.float32)\n",
    "\n",
    "    X = Variable(torch.from_numpy(X).cuda())\n",
    "    y = Variable(torch.from_numpy(y).cuda())\n",
    "    \n",
    "    y = y.reshape((y.shape[0], 1))\n",
    "\n",
    "    return X, y"
   ]
  },
  {
   "cell_type": "code",
   "execution_count": 4,
   "metadata": {},
   "outputs": [],
   "source": [
    "class LinearRegression(nn.Module):\n",
    "    def __init__(self, input_dim, output_dim):\n",
    "        super(LinearRegression, self).__init__()\n",
    "        self.linear = nn.Linear(input_dim, output_dim, bias=False)\n",
    "\n",
    "    def forward(self, X):\n",
    "        out = self.linear(X)\n",
    "        return out\n",
    "\n",
    "\n",
    "def reg_mse(model, y_pred, y_true, alpha):\n",
    "    '''MSE with L2-regulatization'''\n",
    "    criterion = nn.MSELoss().cuda()\n",
    "\n",
    "    loss = criterion(y_pred, y_true)\n",
    "    loss += sum([\n",
    "        alpha * torch.norm(param)\n",
    "        for param in model.parameters()\n",
    "    ])\n",
    "    return loss\n",
    "\n",
    "\n",
    "def iterate(model, X_train, y_train, X_val, y_val, alpha):\n",
    "    '''Go through one train epoch and return losses'''\n",
    "    loss = reg_mse(model, y_train, model(X_train), alpha)\n",
    "\n",
    "    optimizer.zero_grad()\n",
    "    loss.backward()\n",
    "    optimizer.step()\n",
    "\n",
    "    train_loss = reg_mse(model, y_train, model(X_train), alpha)\n",
    "    val_loss = reg_mse(model, y_val, model(X_val), alpha)\n",
    "\n",
    "    return train_loss, val_loss"
   ]
  },
  {
   "cell_type": "code",
   "execution_count": 5,
   "metadata": {},
   "outputs": [
    {
     "name": "stdout",
     "output_type": "stream",
     "text": [
      "alpha 0.001, loss 98.95825958251953\n",
      "alpha 0.01, loss 98.70037078857422\n",
      "alpha 0.1, loss 99.99295806884766\n",
      "alpha 1.0, loss 107.8177490234375\n"
     ]
    },
    {
     "data": {
      "text/plain": [
       "[]"
      ]
     },
     "execution_count": 5,
     "metadata": {},
     "output_type": "execute_result"
    },
    {
     "data": {
      "image/png": "[encoded data removed]",
      "text/plain": [
       "<Figure size 432x288 with 1 Axes>"
      ]
     },
     "metadata": {
      "needs_background": "light"
     },
     "output_type": "display_data"
    }
   ],
   "source": [
    "input_dim = 5\n",
    "output_dim = 1\n",
    "lr = 0.01 \n",
    "epochs = 2000\n",
    "alphas = 10 ** np.arange(-3, 1, dtype=float)\n",
    "\n",
    "X, y = prepare(D)\n",
    "\n",
    "losses = {}\n",
    "for alpha in alphas:\n",
    "    model = LinearRegression(input_dim, output_dim)\n",
    "    model.cuda()\n",
    "    optimizer = torch.optim.Adam(model.parameters(), lr=lr)\n",
    "\n",
    "    for epoch in range(epochs):\n",
    "        loss, _ = iterate(model, X, y, X, y, alpha)\n",
    "\n",
    "    losses[np.log10(alpha)] = loss.item()\n",
    "    print(f'alpha {alpha}, loss {loss.item()}')\n",
    "\n",
    "plt.scatter(losses.keys(), losses.values())\n",
    "plt.xlabel('$log_{10}\\;alpha$')\n",
    "plt.ylabel('Loss')\n",
    "plt.plot()"
   ]
  },
  {
   "cell_type": "code",
   "execution_count": 6,
   "metadata": {},
   "outputs": [
    {
     "name": "stdout",
     "output_type": "stream",
     "text": [
      "fold 0 alpha 0.001, loss 92.99930572509766\n",
      "fold 0 alpha 0.01, loss 92.91063690185547\n",
      "fold 0 alpha 0.1, loss 94.24494171142578\n",
      "fold 0 alpha 1.0, loss 101.80415344238281\n",
      "fold 1 alpha 0.001, loss 103.13139343261719\n",
      "fold 1 alpha 0.01, loss 102.28271484375\n",
      "fold 1 alpha 0.1, loss 104.0198745727539\n",
      "fold 1 alpha 1.0, loss 111.16828918457031\n",
      "fold 2 alpha 0.001, loss 101.5322494506836\n",
      "fold 2 alpha 0.01, loss 101.54930114746094\n",
      "fold 2 alpha 0.1, loss 101.83201599121094\n",
      "fold 2 alpha 1.0, loss 109.6402587890625\n",
      "fold 3 alpha 0.001, loss 106.67762756347656\n",
      "fold 3 alpha 0.01, loss 105.78760528564453\n",
      "fold 3 alpha 0.1, loss 106.4411392211914\n",
      "fold 3 alpha 1.0, loss 113.07595825195312\n",
      "fold 4 alpha 0.001, loss 99.55300903320312\n",
      "fold 4 alpha 0.01, loss 100.13573455810547\n",
      "fold 4 alpha 0.1, loss 101.22218322753906\n",
      "fold 4 alpha 1.0, loss 107.04371643066406\n"
     ]
    },
    {
     "data": {
      "text/plain": [
       "[]"
      ]
     },
     "execution_count": 6,
     "metadata": {},
     "output_type": "execute_result"
    },
    {
     "data": {
      "image/png": "[encoded data removed]",
      "text/plain": [
       "<Figure size 432x288 with 1 Axes>"
      ]
     },
     "metadata": {
      "needs_background": "light"
     },
     "output_type": "display_data"
    }
   ],
   "source": [
    "cv = 5\n",
    "cv_losses = defaultdict(list)\n",
    "\n",
    "folds = get_cv_folds(D, cv)\n",
    "for fold_n, fold in enumerate(folds):\n",
    "    for alpha in alphas:\n",
    "        X_val, y_val = prepare(fold)\n",
    "\n",
    "        data_train = np.concatenate(folds[[i for i in range(len(folds)) if i != fold_n]])\n",
    "        X_train, y_train = prepare(data_train)\n",
    "\n",
    "        model = LinearRegression(input_dim, output_dim)\n",
    "        model.cuda()\n",
    "        optimizer = torch.optim.Adam(model.parameters(), lr=lr)\n",
    "\n",
    "        for epoch in range(epochs):\n",
    "            _, loss = iterate(model, X_train, y_train, X_val, y_val, alpha)\n",
    "\n",
    "        print(f'fold {fold_n} alpha {alpha}, loss {loss.item()}')\n",
    "        cv_losses[np.log10(alpha)].append(loss.item())\n",
    "\n",
    "mean_losses = {alpha: np.mean(losses) for alpha, losses in cv_losses.items()}\n",
    "plt.scatter(mean_losses.keys(), mean_losses.values())\n",
    "plt.plot()"
   ]
  },
  {
   "cell_type": "code",
   "execution_count": 7,
   "metadata": {},
   "outputs": [
    {
     "data": {
      "text/plain": [
       "[]"
      ]
     },
     "execution_count": 7,
     "metadata": {},
     "output_type": "execute_result"
    },
    {
     "data": {
      "image/png": "[encoded data removed]",
      "text/plain": [
       "<Figure size 1440x720 with 1 Axes>"
      ]
     },
     "metadata": {
      "needs_background": "light"
     },
     "output_type": "display_data"
    }
   ],
   "source": [
    "alpha = np.argmin(mean_losses.values())\n",
    "train_losses = np.zeros((epochs, cv))\n",
    "val_losses = np.zeros((epochs, cv))\n",
    "\n",
    "folds = get_cv_folds(D, cv)\n",
    "for fold_n, fold in enumerate(folds):\n",
    "    X_val, y_val = prepare(fold)\n",
    "\n",
    "    data_train = np.concatenate(folds[[i for i in range(len(folds)) if i != fold_n]])\n",
    "    X_train, y_train = prepare(data_train)\n",
    "\n",
    "    model = LinearRegression(input_dim, output_dim)\n",
    "    model.cuda()\n",
    "    optimizer = torch.optim.Adam(model.parameters(), lr=lr)\n",
    "\n",
    "    for epoch in range(epochs):\n",
    "        train_loss, val_loss = iterate(model, X_train, y_train, X_val, y_val, alpha)\n",
    "        train_losses[epoch] = train_loss.item()\n",
    "        val_losses[epoch] = val_loss.item()\n",
    "\n",
    "plt.figure(figsize=(20,10))\n",
    "plt.plot(range(epochs), train_losses.mean(axis=1))\n",
    "plt.plot(range(epochs), val_losses.mean(axis=1))\n",
    "plt.legend(['train', 'val'])\n",
    "plt.xlabel('epoch')\n",
    "plt.ylabel('loss')\n",
    "plt.plot()"
   ]
  }
 ],
 "metadata": {
  "kernelspec": {
   "display_name": "thesis",
   "language": "python",
   "name": "thesis"
  },
  "language_info": {
   "codemirror_mode": {
    "name": "ipython",
    "version": 3
   },
   "file_extension": ".py",
   "mimetype": "text/x-python",
   "name": "python",
   "nbconvert_exporter": "python",
   "pygments_lexer": "ipython3",
   "version": "3.8.5"
  }
 },
 "nbformat": 4,
 "nbformat_minor": 4
}
