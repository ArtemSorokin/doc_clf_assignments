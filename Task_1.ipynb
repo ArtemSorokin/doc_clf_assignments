{
 "cells": [
  {
   "cell_type": "markdown",
   "metadata": {},
   "source": [
    "# Задание 1\n",
    "\n",
    "[Свертка списка](https://ru.wikipedia.org/wiki/%D0%A1%D0%B2%D1%91%D1%80%D1%82%D0%BA%D0%B0_%D1%81%D0%BF%D0%B8%D1%81%D0%BA%D0%B0) -  это обобщенная операция над списком, c помощью которой можно преобразовать список в единое значение. Например, рассмотрим реализации свертки слева и свертки справа (левоассоциативную свертку и правоассоциативную свертку):"
   ]
  },
  {
   "cell_type": "code",
   "execution_count": 1,
   "metadata": {},
   "outputs": [],
   "source": [
    "def foldl(f, x0, lst):\n",
    "    if not lst:\n",
    "        return x0\n",
    "    return foldl(f, f(x0, lst[0]), lst[1:])\n",
    "\n",
    "def foldr(f, x0, lst):\n",
    "    if not lst:\n",
    "        return x0\n",
    "    return f(lst[0], foldr(f, x0, lst[1:]))"
   ]
  },
  {
   "cell_type": "code",
   "execution_count": 2,
   "metadata": {},
   "outputs": [
    {
     "data": {
      "text/plain": [
       "6"
      ]
     },
     "execution_count": 2,
     "metadata": {},
     "output_type": "execute_result"
    }
   ],
   "source": [
    "#сумма\n",
    "foldl(lambda x, y: x + y, 0, [1, 2, 3])"
   ]
  },
  {
   "cell_type": "code",
   "execution_count": 3,
   "metadata": {},
   "outputs": [
    {
     "data": {
      "text/plain": [
       "'123'"
      ]
     },
     "execution_count": 3,
     "metadata": {},
     "output_type": "execute_result"
    }
   ],
   "source": [
    "#конкатенация\n",
    "foldl(lambda x, y: '{}{}'.format(x, y), '', [1, 2, 3])"
   ]
  },
  {
   "cell_type": "code",
   "execution_count": 4,
   "metadata": {},
   "outputs": [
    {
     "data": {
      "text/plain": [
       "(0.16666666666666666, 1.5)"
      ]
     },
     "execution_count": 4,
     "metadata": {},
     "output_type": "execute_result"
    }
   ],
   "source": [
    "f = lambda x, y: x / y\n",
    "foldl(f, 1, [1, 2, 3]), \\\n",
    "foldr(f, 1, [1, 2, 3])"
   ]
  },
  {
   "cell_type": "markdown",
   "metadata": {},
   "source": [
    "Задача: реализовать foldl через foldr и наоборот. Вместо многоточий нужно вставить выражения, которые бы привели к нужному результату. Модифицировать сам список нельзя. "
   ]
  },
  {
   "cell_type": "code",
   "execution_count": 5,
   "metadata": {},
   "outputs": [],
   "source": [
    "def foldl2(f, x0, lst):\n",
    "    return foldr(lambda *x: f(*x[::-1]), x0, lst[::-1])"
   ]
  },
  {
   "cell_type": "code",
   "execution_count": 6,
   "metadata": {},
   "outputs": [],
   "source": [
    "def foldr2(f, x0, lst):\n",
    "    return foldl(lambda *x: f(*x[::-1]), x0, lst[::-1])"
   ]
  },
  {
   "cell_type": "markdown",
   "metadata": {},
   "source": [
    "# Задание 2\n",
    "\n",
    "нужно написать функцию, которая принимает две строки и проверяет, входит ли хотя бы одна перестановка второй строки в первую. Например:\n",
    "\n",
    "> a = 'abcrotm'\n",
    "> \n",
    "> b = 'tro'\n",
    "\n",
    "функция def check_inv(a, b) вернет True, так как 'rot' содержится в 'abcrotm'. Нужно подумать как можно более оптимальный алгоритм и оценить его сложность. "
   ]
  },
  {
   "cell_type": "code",
   "execution_count": 7,
   "metadata": {},
   "outputs": [
    {
     "data": {
      "text/plain": [
       "True"
      ]
     },
     "execution_count": 7,
     "metadata": {},
     "output_type": "execute_result"
    }
   ],
   "source": [
    "from collections import Counter\n",
    "\n",
    "\n",
    "def check_inv(a, b):\n",
    "    if len(b) > len(a):\n",
    "        return False\n",
    "\n",
    "    return Counter(b) - Counter(a) & Counter(b) == {}\n",
    "\n",
    "\n",
    "check_inv('abcrotm', 'tro')"
   ]
  },
  {
   "cell_type": "markdown",
   "metadata": {},
   "source": [
    "# Задание 3\n",
    "\n",
    "Реализовать бинарное дерево (класс Tree), в нём методы __repr__, __str__, __iter__ (итерация только по листьям)."
   ]
  },
  {
   "cell_type": "code",
   "execution_count": 8,
   "metadata": {},
   "outputs": [
    {
     "name": "stdout",
     "output_type": "stream",
     "text": [
      "0   \n",
      "1   2   \n",
      "3 4     \n",
      "\n",
      "Tree(0, Tree(1, Tree(3), Tree(4)), Tree(2))\n"
     ]
    },
    {
     "data": {
      "text/plain": [
       "True"
      ]
     },
     "execution_count": 8,
     "metadata": {},
     "output_type": "execute_result"
    }
   ],
   "source": [
    "from collections import deque\n",
    "import numpy as np\n",
    "\n",
    "class Tree:\n",
    "    def __init__(self, value=None, left=None, right=None):\n",
    "        self.left = left\n",
    "        self.right = right\n",
    "        self.value = value\n",
    "\n",
    "    def __repr__(self):\n",
    "        subtree_repr = lambda subtree: f', {subtree.__repr__()}' if subtree is not None else ''\n",
    "\n",
    "        left_repr = subtree_repr(self.left)\n",
    "        right_repr = subtree_repr(self.right)\n",
    "        return f'{type(self).__name__}({self.value}{left_repr}{right_repr})'\n",
    "\n",
    "    def get_levels(self):\n",
    "        '''BFS для получения списков вершин по уровням дерева'''\n",
    "        q = deque()\n",
    "        if self is not None:\n",
    "            q.append(self)\n",
    "        levels = []\n",
    "        next_level = []\n",
    "        while q:\n",
    "            level = next_level\n",
    "            next_level = []\n",
    "            for i in range(len(q)):\n",
    "                node = q.popleft()\n",
    "                if node is None:\n",
    "                    level.append(None)\n",
    "                    next_level.append(None)\n",
    "                    next_level.append(None)\n",
    "                else:\n",
    "                    q.append(node.left)\n",
    "                    q.append(node.right)\n",
    "                    level.append(node.value)\n",
    "            levels.append(level)\n",
    "        return levels[:-1]\n",
    "\n",
    "    def __str__(self):\n",
    "        s = ''\n",
    "        levels = self.get_levels()\n",
    "        gap = 2 ** (len(levels) - 1) - 1\n",
    "        for i, level in enumerate(levels):\n",
    "            for j, val in enumerate(level):\n",
    "                s += f'{val}' if val is not None else ' '\n",
    "                s += ' ' * gap\n",
    "            gap = 2 ** (len(levels) - 1 - i) - 1\n",
    "            s += '\\n'\n",
    "        return s\n",
    "\n",
    "\n",
    "    def __iter__(self):\n",
    "        if self.left is None and self.right is None:\n",
    "            yield self.value\n",
    "\n",
    "        if self.left is not None:\n",
    "            for tree in self.left:\n",
    "                yield tree\n",
    "\n",
    "        if self.right is not None:\n",
    "            for tree in self.right:\n",
    "                yield tree\n",
    "\n",
    "\n",
    "tree = Tree(0, Tree(1, Tree(3), Tree(4)), Tree(2))\n",
    "\n",
    "print(tree)\n",
    "print(tree.__repr__())\n",
    "list(tree) == [3, 4, 2]"
   ]
  },
  {
   "cell_type": "markdown",
   "metadata": {},
   "source": [
    "# Задание 4\n",
    "\n",
    "Реализовать простейший калькулятор математических выражений:\n",
    "- только целые числа\n",
    "- **+**, **\\-**, **\\***, **\\**\n",
    "- скобки\n",
    "\n",
    "**Можно использовать регулярные выражения**"
   ]
  },
  {
   "cell_type": "code",
   "execution_count": 9,
   "metadata": {},
   "outputs": [
    {
     "data": {
      "text/plain": [
       "True"
      ]
     },
     "execution_count": 9,
     "metadata": {},
     "output_type": "execute_result"
    }
   ],
   "source": [
    "import re\n",
    "\n",
    "\n",
    "def compare_operators(stack, x):\n",
    "    precedence = {'+': 1, '-': 1, '*': 2, '/': 2}\n",
    "    try:\n",
    "        return precedence[x] <= precedence[stack[-1]]\n",
    "    except KeyError:\n",
    "        return False\n",
    "\n",
    "\n",
    "def infix_to_postfix(inputs):\n",
    "    outputs = []\n",
    "    stack = []\n",
    "    for x in inputs:\n",
    "        if x.isdigit():\n",
    "            outputs.append(int(x))\n",
    "        elif x == '(':\n",
    "            stack.append(x)\n",
    "        elif x == ')':\n",
    "            while stack and stack[-1] != '(':\n",
    "                outputs.append(stack.pop())\n",
    "            stack.pop()\n",
    "        else:\n",
    "            while stack and compare_operators(stack, x):\n",
    "                outputs.append(stack.pop())\n",
    "            stack.append(x)\n",
    "    while stack:\n",
    "        outputs.append(stack.pop())\n",
    "    return outputs\n",
    "\n",
    "\n",
    "def calc(expr):\n",
    "    infix = re.findall(r'[-+/*()]|\\d+(?:\\.\\d+)?', expr)\n",
    "    postfix = infix_to_postfix(infix)\n",
    "\n",
    "    stack = []\n",
    "    for x in postfix:\n",
    "        if type(x) is int:\n",
    "            stack.append(x)\n",
    "        else:\n",
    "            operand2, operand1 = stack.pop(), stack.pop()\n",
    "\n",
    "            if x == '+':\n",
    "                stack.append(operand1 + operand2)\n",
    "            elif x == '-':\n",
    "                stack.append(operand1 - operand2)\n",
    "            elif x == '*':\n",
    "                stack.append(operand1 * operand2)\n",
    "            elif x == '/':\n",
    "                stack.append(operand1 // operand2)\n",
    "\n",
    "    return stack.pop()\n",
    "\n",
    "\n",
    "calc('2 * (15 - 3 * 4) - 2') == 4"
   ]
  }
 ],
 "metadata": {
  "kernelspec": {
   "display_name": "Python 3",
   "language": "python",
   "name": "python3"
  },
  "language_info": {
   "codemirror_mode": {
    "name": "ipython",
    "version": 3
   },
   "file_extension": ".py",
   "mimetype": "text/x-python",
   "name": "python",
   "nbconvert_exporter": "python",
   "pygments_lexer": "ipython3",
   "version": "3.7.5"
  }
 },
 "nbformat": 4,
 "nbformat_minor": 4
}
